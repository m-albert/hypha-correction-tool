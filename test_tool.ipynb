{
 "cells": [
  {
   "cell_type": "code",
   "execution_count": 2,
   "id": "69ebb748-9189-4443-a427-913d3a5ee6ce",
   "metadata": {},
   "outputs": [
    {
     "name": "stdout",
     "output_type": "stream",
     "text": [
      "https://imjoy.io/lite?plugin=https://raw.githubusercontent.com/m-albert/hypha-correction-tool/main/correction_tool.imjoy.html&config=%7B%22server_url%22%3A%20%22https%3A//ai.imjoy.io%22%2C%20%22annotation_service_id%22%3A%20%227GhpbvcVC5iZFcpj3b693w/fiEsCx6YXaGGYpCnm2EFjd%3Acorrection-tool%22%2C%20%22token%22%3A%20%22g3MVzCoMBYyLZ8CxouStvb%40imjoy%40eyJhbGciOiJIUzI1NiIsInR5cCI6IkpXVCJ9.eyJpc3MiOiJodHRwczovL2ltam95LmlvLyIsInN1YiI6ImczTVZ6Q29NQll5TFo4Q3hvdVN0dmIiLCJhdWQiOiJodHRwczovL2ltam95LmV1LmF1dGgwLmNvbS9hcGkvdjIvIiwiaWF0IjoxNzIyNTk4MTU1LjU1NjQxOCwiZXhwIjoxNzIyNjA4OTU1LjU1NjQxOCwic2NvcGUiOiI3R2hwYnZjVkM1aVpGY3BqM2I2OTN3IiwicGFyZW50IjoiN0docGJ2Y1ZDNWlaRmNwajNiNjkzdyIsInBjIjpudWxsLCJndHkiOiJjbGllbnQtY3JlZGVudGlhbHMiLCJodHRwczovL2FwaS5pbWpveS5pby9yb2xlcyI6W10sImh0dHBzOi8vYXBpLmltam95LmlvL2VtYWlsIjpudWxsfQ.no-rWiFQpJXxatt7Nq_V6wK87VFBuq_Av01rt4R5390%22%7D\n",
      "Loading saved annotation\n",
      "dict_keys(['keepp', 'keepn', 'category'])\n",
      "Category found\n",
      "/Volumes/ImageAnalysisHub/malbert/nhawkins/HAWKINS_highmag_sorted/training0/dataset2_highmag_liposomesandproteinsATP/Good/FoilHole_13019482_Data_13019249_13019251_20230713_184343_binned_size_matched.mrc\n",
      "Loading saved annotation\n",
      "dict_keys(['keepp', 'keepn', 'category'])\n",
      "Category found\n",
      "/Volumes/ImageAnalysisHub/malbert/nhawkins/HAWKINS_highmag_sorted/training0/dataset2_highmag_liposomesandproteinsATP/Good/FoilHole_13019482_Data_13019249_13019251_20230713_184343_binned_size_matched.mrc\n",
      "Saving correction\n",
      "Overwriting existing annotation\n",
      "Loading saved annotation\n",
      "dict_keys(['keepp', 'keepn', 'category'])\n",
      "Category found\n",
      "/Volumes/ImageAnalysisHub/malbert/nhawkins/HAWKINS_highmag_sorted/training0/dataset2_highmag_liposomesandproteinsATP/Good/FoilHole_13019613_Data_13019249_13019251_20230713_184453_binned_size_matched.mrc\n",
      "Saving correction\n",
      "Overwriting existing annotation\n",
      "Loading saved annotation\n",
      "dict_keys(['keepp', 'keepn', 'category'])\n",
      "Category found\n",
      "/Volumes/ImageAnalysisHub/malbert/nhawkins/HAWKINS_highmag_sorted/training0/dataset2_highmag_liposomesandproteinsATP/Good/FoilHole_13019482_Data_13019249_13019251_20230713_184343_binned_size_matched.mrc\n",
      "Saving correction\n",
      "Overwriting existing annotation\n",
      "Loading saved annotation\n",
      "dict_keys(['keepp', 'keepn', 'category'])\n",
      "Category found\n",
      "/Volumes/ImageAnalysisHub/malbert/nhawkins/HAWKINS_highmag_sorted/training0/dataset2_highmag_liposomesandproteinsATP/Good/FoilHole_13019473_Data_13019249_13019251_20230713_184126_binned_size_matched.mrc\n"
     ]
    }
   ],
   "source": [
    "import correction_server\n",
    "import importlib\n",
    "importlib.reload(correction_server)\n",
    "\n",
    "# path2images = \"/Volumes/ImageAnalysisHub/malbert/nhawkins/HAWKINS_highmag_sorted/dataset2_highmag_liposomesandproteinsATP/Good/membrainseg\"\n",
    "# path2labels = \"/Volumes/ImageAnalysisHub/malbert/nhawkins/HAWKINS_highmag_sorted/dataset2_highmag_liposomesandproteinsATP/Good/skeletons\"\n",
    "# save_path = \"/Volumes/ImageAnalysisHub/malbert/nhawkins/HAWKINS_highmag_sorted/dataset2_highmag_liposomesandproteinsATP/Good/corrections0\"\n",
    "\n",
    "path2images = \"/Volumes/ImageAnalysisHub/malbert/nhawkins/HAWKINS_highmag_sorted/training0\"\n",
    "\n",
    "server_url = \"https://ai.imjoy.io\"\n",
    "# server = await correction_server.start_server(server_url, path2data, outpath)\n",
    "# server = await correction_server.start_server(server_url, path2images, path2labels, save_path)\n",
    "server = await correction_server.start_server(server_url, path2images)\n",
    "token = await server.generate_token()"
   ]
  },
  {
   "cell_type": "code",
   "execution_count": 5,
   "id": "3e356231-8294-4809-a9f0-4ce4da0223c1",
   "metadata": {},
   "outputs": [
    {
     "data": {
      "application/javascript": [
       "window.connectPlugin && window.connectPlugin(\"242f8d6a-7036-4e26-b0ff-cba201dcf0c8\")"
      ],
      "text/plain": [
       "<IPython.core.display.Javascript object>"
      ]
     },
     "metadata": {},
     "output_type": "display_data"
    },
    {
     "data": {
      "text/html": [
       "<div id=\"36c19c69-d3ff-4760-8287-5591341ac866\"></div>"
      ],
      "text/plain": [
       "<IPython.core.display.HTML object>"
      ]
     },
     "metadata": {},
     "output_type": "display_data"
    },
    {
     "data": {
      "text/plain": [
       "<_GatheringFuture pending>"
      ]
     },
     "execution_count": 5,
     "metadata": {},
     "output_type": "execute_result"
    }
   ],
   "source": [
    "# test the plugin\n",
    "\n",
    "from IPython.display import HTML\n",
    "\n",
    "# load html from file\n",
    "# take care of filling in token and workspace config, since this will later be done over URL parameters (query string)\n",
    "# this allows working with an html file in an editor (for syntax highlight etc)\n",
    "\n",
    "html = open('correction_tool.imjoy.html').read()\n",
    "html = html.replace(\"config.token\", '\"'+token+'\"')\n",
    "html = html.replace(\"config.workspace\", '\"'+server['config']['workspace']+'\"')\n",
    "my_plugin_source = HTML(html)\n",
    "\n",
    "from imjoy_rpc import api\n",
    "class ImJoyPlugin():\n",
    "    async def setup(self):\n",
    "        pass\n",
    "\n",
    "    async def run(self, ctx):\n",
    "        # for regular plugin\n",
    "        # p = await api.getPlugin(my_plugin_source)\n",
    "\n",
    "        # or for window plugin\n",
    "        await api.createWindow(src=my_plugin_source)\n",
    "        # await api.showDialog(src=my_plugin_source)\n",
    "\n",
    "api.export(ImJoyPlugin())"
   ]
  },
  {
   "cell_type": "code",
   "execution_count": 5,
   "id": "f6598c62-35ea-4f56-8201-8939f3424fe7",
   "metadata": {},
   "outputs": [
    {
     "data": {
      "application/javascript": [
       "window.connectPlugin && window.connectPlugin(\"13f59707-e269-434d-85ad-cef2dbab43e7\")"
      ],
      "text/plain": [
       "<IPython.core.display.Javascript object>"
      ]
     },
     "metadata": {},
     "output_type": "display_data"
    },
    {
     "data": {
      "text/html": [
       "<div id=\"1f1694d9-5043-4968-8d64-a8bb1c7f34a4\"></div>"
      ],
      "text/plain": [
       "<IPython.core.display.HTML object>"
      ]
     },
     "metadata": {},
     "output_type": "display_data"
    },
    {
     "data": {
      "text/plain": [
       "<_GatheringFuture pending>"
      ]
     },
     "execution_count": 5,
     "metadata": {},
     "output_type": "execute_result"
    }
   ],
   "source": []
  },
  {
   "cell_type": "code",
   "execution_count": null,
   "id": "570903c3-6833-4875-a9dc-8ccb26cb5ebb",
   "metadata": {},
   "outputs": [],
   "source": []
  },
  {
   "cell_type": "code",
   "execution_count": null,
   "id": "23c018e8-6621-4f5d-9f8c-6041dedc9fde",
   "metadata": {},
   "outputs": [],
   "source": []
  },
  {
   "cell_type": "code",
   "execution_count": 10,
   "id": "3c207057-c890-43f3-835d-019edcc1a218",
   "metadata": {},
   "outputs": [
    {
     "ename": "SyntaxError",
     "evalue": "invalid syntax (3577533698.py, line 1)",
     "output_type": "error",
     "traceback": [
      "\u001b[0;36m  Cell \u001b[0;32mIn[10], line 1\u001b[0;36m\u001b[0m\n\u001b[0;31m    class ImJoyPlugin {\u001b[0m\n\u001b[0m                      ^\u001b[0m\n\u001b[0;31mSyntaxError\u001b[0m\u001b[0;31m:\u001b[0m invalid syntax\n"
     ]
    }
   ],
   "source": [
    "class ImJoyPlugin {\n",
    "    async setup() {\n",
    "    async run(ctx) {\n",
    "        const viewer = await api.createWindow({src: \"https://kaibu.org/#/app\", name: \"Kaibu\"})\n",
    "        await viewer.view_image(\"https://images.proteinatlas.org/61448/1319_C10_2_blue_red_green.jpg\")\n",
    "        await viewer.set_sliders([\n",
    "            {\n",
    "                _rintf: true,\n",
    "                name: \"Z\",\n",
    "                min: 0,\n",
    "                max: 1000,\n",
    "                step: 1,\n",
    "                value: [200, 400], // this makes it a range slider\n",
    "                change_callback() {\n",
    "                    console.log(\"z slider changed.\");\n",
    "                }\n",
    "            },\n",
    "            {\n",
    "                _rintf: true,\n",
    "                name: \"T\",\n",
    "                min: 0,\n",
    "                max: 100,\n",
    "                step: 1,\n",
    "                value: 10,\n",
    "                change_callback() {\n",
    "                    console.log(\"t slider changed.\");\n",
    "                }\n",
    "            }\n",
    "        ])\n",
    "\n",
    "        await viewer.update_slider(\"T\", 30)\n",
    "    }\n",
    "}\n",
    "api.export(new ImJoyPlugin())"
   ]
  },
  {
   "cell_type": "code",
   "execution_count": 11,
   "id": "1bb828e0-cd65-4e23-8392-363efdb2d058",
   "metadata": {},
   "outputs": [
    {
     "data": {
      "application/javascript": [
       "window.connectPlugin && window.connectPlugin(\"242f8d6a-7036-4e26-b0ff-cba201dcf0c8\")"
      ],
      "text/plain": [
       "<IPython.core.display.Javascript object>"
      ]
     },
     "metadata": {},
     "output_type": "display_data"
    },
    {
     "data": {
      "text/html": [
       "<div id=\"96bac70d-c931-4ca1-aaa6-8afc62fbcaa0\"></div>"
      ],
      "text/plain": [
       "<IPython.core.display.HTML object>"
      ]
     },
     "metadata": {},
     "output_type": "display_data"
    },
    {
     "data": {
      "text/plain": [
       "<_GatheringFuture pending>"
      ]
     },
     "execution_count": 11,
     "metadata": {},
     "output_type": "execute_result"
    }
   ],
   "source": [
    "from imjoy import api\n",
    "\n",
    "class ImJoyPlugin():\n",
    "    async def setup(self):\n",
    "        pass\n",
    "\n",
    "    async def run(self, ctx):\n",
    "        viewer = await api.createWindow(src=\"https://kaibu.org/#/app\")\n",
    "\n",
    "        async def say_hello():\n",
    "            await api.alert('Hello!')\n",
    "\n",
    "        async def select_mode(mode):\n",
    "            await api.alert(\"Selected mode: \" + mode)\n",
    "\n",
    "        await viewer.add_widget(\n",
    "            {\n",
    "                \"_rintf\": True,\n",
    "                \"name\": \"Control\",\n",
    "                \"type\": \"control\",\n",
    "                \"elements\": [\n",
    "                    {\n",
    "                        \"type\": \"button\",\n",
    "                        \"label\": \"Say Hello\",\n",
    "                        \"callback\": say_hello,\n",
    "                    },\n",
    "                    {\n",
    "                        \"type\": \"dropdown\",\n",
    "                        \"label\": \"Mode\",\n",
    "                        \"options\": [\"Mode A\", \"Mode B\"],\n",
    "                        \"callback\": select_mode,\n",
    "                    },\n",
    "                ],\n",
    "            })\n",
    "\n",
    "api.export(ImJoyPlugin())"
   ]
  },
  {
   "cell_type": "code",
   "execution_count": 7,
   "id": "95cf665f-6ace-41d8-9525-dd4fdb0711d2",
   "metadata": {},
   "outputs": [
    {
     "data": {
      "application/javascript": [
       "window.connectPlugin && window.connectPlugin(\"242f8d6a-7036-4e26-b0ff-cba201dcf0c8\")"
      ],
      "text/plain": [
       "<IPython.core.display.Javascript object>"
      ]
     },
     "metadata": {},
     "output_type": "display_data"
    },
    {
     "data": {
      "text/html": [
       "<div id=\"b26dc5ac-44f2-48e3-8bd5-f00ce173002b\"></div>"
      ],
      "text/plain": [
       "<IPython.core.display.HTML object>"
      ]
     },
     "metadata": {},
     "output_type": "display_data"
    },
    {
     "data": {
      "text/plain": [
       "<_GatheringFuture pending>"
      ]
     },
     "execution_count": 7,
     "metadata": {},
     "output_type": "execute_result"
    }
   ],
   "source": [
    "from imjoy import api\n",
    "\n",
    "class ImJoyPlugin():\n",
    "    async def setup(self):\n",
    "        pass\n",
    "\n",
    "    async def run(self, ctx):\n",
    "        viewer = await api.createWindow(src=\"https://kaibu.org/#/app\")\n",
    "\n",
    "        async def node_dbclick_callback(node):\n",
    "            await api.alert(\"selected node:\" + str(node))\n",
    "\n",
    "        chart = await viewer.add_widget(\n",
    "            {\n",
    "                \"_rintf\": True,\n",
    "                \"name\": \"Bar chart\",\n",
    "                \"type\": \"vega\",\n",
    "                \"spec\": \"https://raw.githubusercontent.com/vega/vega/master/docs/examples/bar-chart.vg.json\",\n",
    "            }\n",
    "        )\n",
    "\n",
    "api.export(ImJoyPlugin())"
   ]
  },
  {
   "cell_type": "code",
   "execution_count": 22,
   "id": "1e05729b-0364-46e6-8d2c-9e04a93ae12d",
   "metadata": {},
   "outputs": [
    {
     "data": {
      "application/javascript": [
       "window.connectPlugin && window.connectPlugin(\"13f59707-e269-434d-85ad-cef2dbab43e7\")"
      ],
      "text/plain": [
       "<IPython.core.display.Javascript object>"
      ]
     },
     "metadata": {},
     "output_type": "display_data"
    },
    {
     "data": {
      "text/html": [
       "<div id=\"28425db1-ce7d-473b-a0ad-2f20da56dc58\"></div>"
      ],
      "text/plain": [
       "<IPython.core.display.HTML object>"
      ]
     },
     "metadata": {},
     "output_type": "display_data"
    },
    {
     "data": {
      "text/plain": [
       "<_GatheringFuture pending>"
      ]
     },
     "execution_count": 22,
     "metadata": {},
     "output_type": "execute_result"
    }
   ],
   "source": [
    "from imjoy import api\n",
    "\n",
    "class ImJoyPlugin():\n",
    "    async def setup(self):\n",
    "        pass\n",
    "\n",
    "    async def run(self, ctx):\n",
    "        viewer = await api.createWindow(src=\"https://kaibu.org/#/app\")\n",
    "\n",
    "        async def say_hello():\n",
    "            await api.alert('Hello!')\n",
    "\n",
    "        async def select_mode(mode):\n",
    "            await api.alert(\"Selected mode: \" + mode)\n",
    "\n",
    "        await viewer.add_widget(\n",
    "            {\n",
    "                \"_rintf\": True,\n",
    "                \"name\": \"Control\",\n",
    "                \"type\": \"control\",\n",
    "                \"elements\": [\n",
    "                    {\n",
    "                        \"type\": \"button\",\n",
    "                        \"label\": \"Say Hello\",\n",
    "                        \"callback\": say_hello,\n",
    "                    },\n",
    "                    {\n",
    "                        \"type\": \"dropdown\",\n",
    "                        \"label\": \"Mode\",\n",
    "                        \"options\": [\"Mode A\", \"Mode B\"],\n",
    "                        \"callback\": select_mode,\n",
    "                    },\n",
    "                ],\n",
    "            })\n",
    "\n",
    "api.export(ImJoyPlugin())\n"
   ]
  },
  {
   "cell_type": "code",
   "execution_count": 9,
   "id": "2e4b8e03-8786-4ce4-a274-aecc723375ba",
   "metadata": {},
   "outputs": [
    {
     "data": {
      "application/javascript": [
       "window.connectPlugin && window.connectPlugin(\"13f59707-e269-434d-85ad-cef2dbab43e7\")"
      ],
      "text/plain": [
       "<IPython.core.display.Javascript object>"
      ]
     },
     "metadata": {},
     "output_type": "display_data"
    },
    {
     "data": {
      "text/html": [
       "<div id=\"582ab8f8-4bcd-4463-b4fc-3a83a2d9c30a\"></div>"
      ],
      "text/plain": [
       "<IPython.core.display.HTML object>"
      ]
     },
     "metadata": {},
     "output_type": "display_data"
    },
    {
     "data": {
      "text/plain": [
       "<_GatheringFuture pending>"
      ]
     },
     "execution_count": 9,
     "metadata": {},
     "output_type": "execute_result"
    }
   ],
   "source": [
    "from imjoy import api\n",
    "\n",
    "class ImJoyPlugin():\n",
    "    async def setup(self):\n",
    "        pass\n",
    "\n",
    "    async def run(self, ctx):\n",
    "        viewer = await api.createWindow(src=\"https://kaibu.org/#/app\")\n",
    "\n",
    "        async def form_submit_callback(fields):\n",
    "            await api.alert(\"Selected mode: \" + str(fields))\n",
    "\n",
    "        await viewer.add_widget(\n",
    "            {\n",
    "                \"_rintf\": True,\n",
    "                \"name\": \"My Form\",\n",
    "                \"type\": \"form\",\n",
    "                \"form_submit_callback\": form_submit_callback,\n",
    "                \"fields\": [\n",
    "                    {\n",
    "                        \"label\": \"First Name\",\n",
    "                        \"value\": \"fir\",\n",
    "                        \"rules\": {\n",
    "                            \"min\": 4,\n",
    "                            \"max\": 20\n",
    "                        }\n",
    "                    },\n",
    "                     {\n",
    "                        \"label\": \"Country\",\n",
    "                        \"type\": \"select\",\n",
    "                        \"iconLeft\": \"globe-americas\",\n",
    "                        \"placeholder\": \"Select your option\",\n",
    "                        \"options\": [\n",
    "                            \"Afghanistan\",\n",
    "                            \"Åland Islands\",\n",
    "                            \"Albania\",\n",
    "                            \"Algeria\",\n",
    "                            \"...\",\n",
    "                            \"Western Sahara\",\n",
    "                            {\"text\": \"Yemen\", \"value\": \"YE\"},\n",
    "                            {\"text\": \"Zambia\", \"value\": \"ZB\", \"selected\": True},\n",
    "                            \"Zimbabwe\"\n",
    "                        ]\n",
    "                    },\n",
    "                    {\n",
    "                        \"html\": \"<div class='box'><article class='media'><div class='media-left'><figure class='image is-64x64'><img src='https://bulma.io/images/placeholders/64x64.png' alt='Image'></figure></div><div class='media-content'><div class='content'><p><strong class='has-text-info'>Info</strong><br>You can also pass html like this box</p></div>\"\n",
    "                    },\n",
    "                ],\n",
    "            })\n",
    "\n",
    "api.export(ImJoyPlugin())"
   ]
  },
  {
   "cell_type": "code",
   "execution_count": 10,
   "id": "a7a5fa7e-b719-4135-8db3-6553451aaaeb",
   "metadata": {},
   "outputs": [
    {
     "data": {
      "application/javascript": [
       "window.connectPlugin && window.connectPlugin(\"13f59707-e269-434d-85ad-cef2dbab43e7\")"
      ],
      "text/plain": [
       "<IPython.core.display.Javascript object>"
      ]
     },
     "metadata": {},
     "output_type": "display_data"
    },
    {
     "data": {
      "text/html": [
       "<div id=\"4e31f521-82c2-4799-bc01-6c6a4ea3ce07\"></div>"
      ],
      "text/plain": [
       "<IPython.core.display.HTML object>"
      ]
     },
     "metadata": {},
     "output_type": "display_data"
    },
    {
     "data": {
      "text/plain": [
       "<_GatheringFuture pending>"
      ]
     },
     "execution_count": 10,
     "metadata": {},
     "output_type": "execute_result"
    }
   ],
   "source": [
    "from imjoy import api\n",
    "\n",
    "class ImJoyPlugin():\n",
    "    async def setup(self):\n",
    "        pass\n",
    "\n",
    "    async def run(self, ctx):\n",
    "        viewer = await api.createWindow(src=\"https://kaibu.org/#/app\")\n",
    "\n",
    "        async def node_dbclick_callback(node):\n",
    "            await api.alert(\"selected node:\" + str(node))\n",
    "\n",
    "        tree = await viewer.add_widget(\n",
    "            {\n",
    "                \"_rintf\": True,\n",
    "                \"type\": \"tree\",\n",
    "                \"name\": \"Samples\",\n",
    "                \"node_dbclick_callback\": node_dbclick_callback,\n",
    "                \"nodes\": [\n",
    "                    {\"title\": 'Item1', \"isLeaf\": True, \"data\": {\"my-custom-data\": 123}},\n",
    "                    {\"title\": 'Item2', \"isLeaf\": True},\n",
    "                    {\"title\": 'Folder1'},\n",
    "                    {\"title\": 'Folder2', \"isExpanded\": True,\n",
    "                        \"children\": [\n",
    "                            {\"title\": 'Item3', \"isLeaf\": True},\n",
    "                            {\"title\": 'Item4', \"isLeaf\": True}\n",
    "                        ]\n",
    "                    }\n",
    "                ],\n",
    "            }\n",
    "        )\n",
    "\n",
    "api.export(ImJoyPlugin())"
   ]
  }
 ],
 "metadata": {
  "kernelspec": {
   "display_name": "Python 3 (ipykernel)",
   "language": "python",
   "name": "python3"
  },
  "language_info": {
   "codemirror_mode": {
    "name": "ipython",
    "version": 3
   },
   "file_extension": ".py",
   "mimetype": "text/x-python",
   "name": "python",
   "nbconvert_exporter": "python",
   "pygments_lexer": "ipython3",
   "version": "3.11.9"
  }
 },
 "nbformat": 4,
 "nbformat_minor": 5
}
