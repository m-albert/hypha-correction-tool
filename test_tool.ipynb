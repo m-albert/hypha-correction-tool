{
 "cells": [
  {
   "cell_type": "code",
   "execution_count": 6,
   "id": "69ebb748-9189-4443-a427-913d3a5ee6ce",
   "metadata": {},
   "outputs": [
    {
     "name": "stdout",
     "output_type": "stream",
     "text": [
      "https://imjoy.io/lite?plugin=https://gist.githubusercontent.com/m-albert/f2abd79d258d1e1f311b220dee4e25ac/raw/45d0ce968f057ed69cbbea7dfd919ab7368a4ac4/bioimageio-colab-correction.imjoy.html&config=%7B%22server_url%22%3A%20%22https%3A//ai.imjoy.io%22%2C%20%22annotation_service_id%22%3A%20%22MhaGTrwQJUPiCWnMXuyrby/8gK29g69C6efooXME7nZUq%3Acorrection-tool%22%2C%20%22token%22%3A%20%22iYYNZv5LSePBszMPaH7YXR%40imjoy%40eyJhbGciOiJIUzI1NiIsInR5cCI6IkpXVCJ9.eyJpc3MiOiJodHRwczovL2ltam95LmlvLyIsInN1YiI6ImlZWU5adjVMU2VQQnN6TVBhSDdZWFIiLCJhdWQiOiJodHRwczovL2ltam95LmV1LmF1dGgwLmNvbS9hcGkvdjIvIiwiaWF0IjoxNzIxMjk0MjQ5Ljg3NTM5NTUsImV4cCI6MTcyMTMwNTA0OS44NzUzOTU1LCJzY29wZSI6Ik1oYUdUcndRSlVQaUNXbk1YdXlyYnkiLCJwYXJlbnQiOiJNaGFHVHJ3UUpVUGlDV25NWHV5cmJ5IiwicGMiOm51bGwsImd0eSI6ImNsaWVudC1jcmVkZW50aWFscyIsImh0dHBzOi8vYXBpLmltam95LmlvL3JvbGVzIjpbXSwiaHR0cHM6Ly9hcGkuaW1qb3kuaW8vZW1haWwiOm51bGx9.bG_YED4gIMbhthUUnGVildSqBGWn05CnMUt82C27CLg%22%7D\n",
      "/Volumes/ImageAnalysisHub/malbert/nhawkins/HAWKINS_highmag_sorted/dataset2_highmag_liposomesandproteinsATP/Good/membrainseg/FoilHole_14078834_Data_13019249_13019251_20230714_094013_binned_size_matched.mrc\n",
      "/Volumes/ImageAnalysisHub/malbert/nhawkins/HAWKINS_highmag_sorted/dataset2_highmag_liposomesandproteinsATP/Good/membrainseg/FoilHole_13027720_Data_13019249_13019251_20230713_205856_binned_size_matched.mrc\n",
      "/Volumes/ImageAnalysisHub/malbert/nhawkins/HAWKINS_highmag_sorted/dataset2_highmag_liposomesandproteinsATP/Good/membrainseg/FoilHole_13030252_Data_13019249_13019251_20230713_213515_binned_size_matched.mrc\n"
     ]
    }
   ],
   "source": [
    "import correction_server\n",
    "import importlib\n",
    "importlib.reload(correction_server)\n",
    "\n",
    "# Prepare paths for output\n",
    "# path2data = \"/Users/malbert/software/bioimageio-colab/notebooks/data/hpa-dataset-v2-98-rgb\"\n",
    "# outpath = \"/Users/malbert/software/bioimageio-colab/notebooks/data/kaibu_annotations\"\n",
    "\n",
    "path2images = \"/Volumes/ImageAnalysisHub/malbert/nhawkins/HAWKINS_highmag_sorted/dataset2_highmag_liposomesandproteinsATP/Good/membrainseg\"\n",
    "path2labels = \"/Volumes/ImageAnalysisHub/malbert/nhawkins/HAWKINS_highmag_sorted/dataset2_highmag_liposomesandproteinsATP/Good/skeletons\"\n",
    "save_path = \"/Volumes/ImageAnalysisHub/malbert/nhawkins/HAWKINS_highmag_sorted/dataset2_highmag_liposomesandproteinsATP/Good/corrections\"\n",
    "\n",
    "# path2images = \"/Volumes/ImageAnalysisHub/malbert/nhawkins/HAWKINS_highmag_sorted/dataset3_highmag_liposomesandproteins/Good/membrainseg\"\n",
    "# path2labels = \"/Volumes/ImageAnalysisHub/malbert/nhawkins/HAWKINS_highmag_sorted/dataset3_highmag_liposomesandproteins/Good/skeletons\"\n",
    "# save_path = \"/Volumes/ImageAnalysisHub/malbert/nhawkins/HAWKINS_highmag_sorted/dataset3_highmag_liposomesandproteins/Good/corrections\"\n",
    "\n",
    "server_url = \"https://ai.imjoy.io\"\n",
    "# server = await correction_server.start_server(server_url, path2data, outpath)\n",
    "server = await correction_server.start_server(server_url, path2images, path2labels, save_path)\n",
    "token = await server.generate_token()"
   ]
  },
  {
   "cell_type": "code",
   "execution_count": 7,
   "id": "3e356231-8294-4809-a9f0-4ce4da0223c1",
   "metadata": {},
   "outputs": [
    {
     "data": {
      "application/javascript": [
       "window.connectPlugin && window.connectPlugin(\"28e586b9-a969-412b-ab5c-2d621ee4cec8\")"
      ],
      "text/plain": [
       "<IPython.core.display.Javascript object>"
      ]
     },
     "metadata": {},
     "output_type": "display_data"
    },
    {
     "data": {
      "text/html": [
       "<div id=\"e98aebc6-52de-4f8b-baca-9207e15132a4\"></div>"
      ],
      "text/plain": [
       "<IPython.core.display.HTML object>"
      ]
     },
     "metadata": {},
     "output_type": "display_data"
    },
    {
     "data": {
      "text/plain": [
       "<_GatheringFuture pending>"
      ]
     },
     "execution_count": 7,
     "metadata": {},
     "output_type": "execute_result"
    }
   ],
   "source": [
    "# test the plugin\n",
    "\n",
    "from IPython.display import HTML\n",
    "\n",
    "# load html from file\n",
    "# take care of filling in token and workspace config, since this will later be done over URL parameters (query string)\n",
    "# this allows working with an html file in an editor (for syntax highlight etc)\n",
    "\n",
    "html = open('correction_tool.imjoy.html').read()\n",
    "html = html.replace(\"config.token\", '\"'+token+'\"')\n",
    "html = html.replace(\"config.workspace\", '\"'+server['config']['workspace']+'\"')\n",
    "my_plugin_source = HTML(html)\n",
    "\n",
    "from imjoy_rpc import api\n",
    "class ImJoyPlugin():\n",
    "    async def setup(self):\n",
    "        pass\n",
    "\n",
    "    async def run(self, ctx):\n",
    "        # for regular plugin\n",
    "        # p = await api.getPlugin(my_plugin_source)\n",
    "\n",
    "        # or for window plugin\n",
    "        await api.createWindow(src=my_plugin_source)\n",
    "        # await api.showDialog(src=my_plugin_source)\n",
    "\n",
    "api.export(ImJoyPlugin())"
   ]
  },
  {
   "cell_type": "code",
   "execution_count": null,
   "id": "5c65c56d-2fe6-4ef9-b041-00551e86b9d2",
   "metadata": {},
   "outputs": [],
   "source": []
  },
  {
   "cell_type": "code",
   "execution_count": 5,
   "id": "f6598c62-35ea-4f56-8201-8939f3424fe7",
   "metadata": {},
   "outputs": [
    {
     "data": {
      "application/javascript": [
       "window.connectPlugin && window.connectPlugin(\"13f59707-e269-434d-85ad-cef2dbab43e7\")"
      ],
      "text/plain": [
       "<IPython.core.display.Javascript object>"
      ]
     },
     "metadata": {},
     "output_type": "display_data"
    },
    {
     "data": {
      "text/html": [
       "<div id=\"1f1694d9-5043-4968-8d64-a8bb1c7f34a4\"></div>"
      ],
      "text/plain": [
       "<IPython.core.display.HTML object>"
      ]
     },
     "metadata": {},
     "output_type": "display_data"
    },
    {
     "data": {
      "text/plain": [
       "<_GatheringFuture pending>"
      ]
     },
     "execution_count": 5,
     "metadata": {},
     "output_type": "execute_result"
    }
   ],
   "source": []
  },
  {
   "cell_type": "code",
   "execution_count": 22,
   "id": "1e05729b-0364-46e6-8d2c-9e04a93ae12d",
   "metadata": {},
   "outputs": [
    {
     "data": {
      "application/javascript": [
       "window.connectPlugin && window.connectPlugin(\"13f59707-e269-434d-85ad-cef2dbab43e7\")"
      ],
      "text/plain": [
       "<IPython.core.display.Javascript object>"
      ]
     },
     "metadata": {},
     "output_type": "display_data"
    },
    {
     "data": {
      "text/html": [
       "<div id=\"28425db1-ce7d-473b-a0ad-2f20da56dc58\"></div>"
      ],
      "text/plain": [
       "<IPython.core.display.HTML object>"
      ]
     },
     "metadata": {},
     "output_type": "display_data"
    },
    {
     "data": {
      "text/plain": [
       "<_GatheringFuture pending>"
      ]
     },
     "execution_count": 22,
     "metadata": {},
     "output_type": "execute_result"
    }
   ],
   "source": [
    "from imjoy import api\n",
    "\n",
    "class ImJoyPlugin():\n",
    "    async def setup(self):\n",
    "        pass\n",
    "\n",
    "    async def run(self, ctx):\n",
    "        viewer = await api.createWindow(src=\"https://kaibu.org/#/app\")\n",
    "\n",
    "        async def say_hello():\n",
    "            await api.alert('Hello!')\n",
    "\n",
    "        async def select_mode(mode):\n",
    "            await api.alert(\"Selected mode: \" + mode)\n",
    "\n",
    "        await viewer.add_widget(\n",
    "            {\n",
    "                \"_rintf\": True,\n",
    "                \"name\": \"Control\",\n",
    "                \"type\": \"control\",\n",
    "                \"elements\": [\n",
    "                    {\n",
    "                        \"type\": \"button\",\n",
    "                        \"label\": \"Say Hello\",\n",
    "                        \"callback\": say_hello,\n",
    "                    },\n",
    "                    {\n",
    "                        \"type\": \"dropdown\",\n",
    "                        \"label\": \"Mode\",\n",
    "                        \"options\": [\"Mode A\", \"Mode B\"],\n",
    "                        \"callback\": select_mode,\n",
    "                    },\n",
    "                ],\n",
    "            })\n",
    "\n",
    "api.export(ImJoyPlugin())\n"
   ]
  },
  {
   "cell_type": "code",
   "execution_count": 9,
   "id": "2e4b8e03-8786-4ce4-a274-aecc723375ba",
   "metadata": {},
   "outputs": [
    {
     "data": {
      "application/javascript": [
       "window.connectPlugin && window.connectPlugin(\"13f59707-e269-434d-85ad-cef2dbab43e7\")"
      ],
      "text/plain": [
       "<IPython.core.display.Javascript object>"
      ]
     },
     "metadata": {},
     "output_type": "display_data"
    },
    {
     "data": {
      "text/html": [
       "<div id=\"582ab8f8-4bcd-4463-b4fc-3a83a2d9c30a\"></div>"
      ],
      "text/plain": [
       "<IPython.core.display.HTML object>"
      ]
     },
     "metadata": {},
     "output_type": "display_data"
    },
    {
     "data": {
      "text/plain": [
       "<_GatheringFuture pending>"
      ]
     },
     "execution_count": 9,
     "metadata": {},
     "output_type": "execute_result"
    }
   ],
   "source": [
    "from imjoy import api\n",
    "\n",
    "class ImJoyPlugin():\n",
    "    async def setup(self):\n",
    "        pass\n",
    "\n",
    "    async def run(self, ctx):\n",
    "        viewer = await api.createWindow(src=\"https://kaibu.org/#/app\")\n",
    "\n",
    "        async def form_submit_callback(fields):\n",
    "            await api.alert(\"Selected mode: \" + str(fields))\n",
    "\n",
    "        await viewer.add_widget(\n",
    "            {\n",
    "                \"_rintf\": True,\n",
    "                \"name\": \"My Form\",\n",
    "                \"type\": \"form\",\n",
    "                \"form_submit_callback\": form_submit_callback,\n",
    "                \"fields\": [\n",
    "                    {\n",
    "                        \"label\": \"First Name\",\n",
    "                        \"value\": \"fir\",\n",
    "                        \"rules\": {\n",
    "                            \"min\": 4,\n",
    "                            \"max\": 20\n",
    "                        }\n",
    "                    },\n",
    "                     {\n",
    "                        \"label\": \"Country\",\n",
    "                        \"type\": \"select\",\n",
    "                        \"iconLeft\": \"globe-americas\",\n",
    "                        \"placeholder\": \"Select your option\",\n",
    "                        \"options\": [\n",
    "                            \"Afghanistan\",\n",
    "                            \"Åland Islands\",\n",
    "                            \"Albania\",\n",
    "                            \"Algeria\",\n",
    "                            \"...\",\n",
    "                            \"Western Sahara\",\n",
    "                            {\"text\": \"Yemen\", \"value\": \"YE\"},\n",
    "                            {\"text\": \"Zambia\", \"value\": \"ZB\", \"selected\": True},\n",
    "                            \"Zimbabwe\"\n",
    "                        ]\n",
    "                    },\n",
    "                    {\n",
    "                        \"html\": \"<div class='box'><article class='media'><div class='media-left'><figure class='image is-64x64'><img src='https://bulma.io/images/placeholders/64x64.png' alt='Image'></figure></div><div class='media-content'><div class='content'><p><strong class='has-text-info'>Info</strong><br>You can also pass html like this box</p></div>\"\n",
    "                    },\n",
    "                ],\n",
    "            })\n",
    "\n",
    "api.export(ImJoyPlugin())"
   ]
  },
  {
   "cell_type": "code",
   "execution_count": 10,
   "id": "a7a5fa7e-b719-4135-8db3-6553451aaaeb",
   "metadata": {},
   "outputs": [
    {
     "data": {
      "application/javascript": [
       "window.connectPlugin && window.connectPlugin(\"13f59707-e269-434d-85ad-cef2dbab43e7\")"
      ],
      "text/plain": [
       "<IPython.core.display.Javascript object>"
      ]
     },
     "metadata": {},
     "output_type": "display_data"
    },
    {
     "data": {
      "text/html": [
       "<div id=\"4e31f521-82c2-4799-bc01-6c6a4ea3ce07\"></div>"
      ],
      "text/plain": [
       "<IPython.core.display.HTML object>"
      ]
     },
     "metadata": {},
     "output_type": "display_data"
    },
    {
     "data": {
      "text/plain": [
       "<_GatheringFuture pending>"
      ]
     },
     "execution_count": 10,
     "metadata": {},
     "output_type": "execute_result"
    }
   ],
   "source": [
    "from imjoy import api\n",
    "\n",
    "class ImJoyPlugin():\n",
    "    async def setup(self):\n",
    "        pass\n",
    "\n",
    "    async def run(self, ctx):\n",
    "        viewer = await api.createWindow(src=\"https://kaibu.org/#/app\")\n",
    "\n",
    "        async def node_dbclick_callback(node):\n",
    "            await api.alert(\"selected node:\" + str(node))\n",
    "\n",
    "        tree = await viewer.add_widget(\n",
    "            {\n",
    "                \"_rintf\": True,\n",
    "                \"type\": \"tree\",\n",
    "                \"name\": \"Samples\",\n",
    "                \"node_dbclick_callback\": node_dbclick_callback,\n",
    "                \"nodes\": [\n",
    "                    {\"title\": 'Item1', \"isLeaf\": True, \"data\": {\"my-custom-data\": 123}},\n",
    "                    {\"title\": 'Item2', \"isLeaf\": True},\n",
    "                    {\"title\": 'Folder1'},\n",
    "                    {\"title\": 'Folder2', \"isExpanded\": True,\n",
    "                        \"children\": [\n",
    "                            {\"title\": 'Item3', \"isLeaf\": True},\n",
    "                            {\"title\": 'Item4', \"isLeaf\": True}\n",
    "                        ]\n",
    "                    }\n",
    "                ],\n",
    "            }\n",
    "        )\n",
    "\n",
    "api.export(ImJoyPlugin())"
   ]
  }
 ],
 "metadata": {
  "kernelspec": {
   "display_name": "Python 3 (ipykernel)",
   "language": "python",
   "name": "python3"
  },
  "language_info": {
   "codemirror_mode": {
    "name": "ipython",
    "version": 3
   },
   "file_extension": ".py",
   "mimetype": "text/x-python",
   "name": "python",
   "nbconvert_exporter": "python",
   "pygments_lexer": "ipython3",
   "version": "3.11.9"
  }
 },
 "nbformat": 4,
 "nbformat_minor": 5
}
